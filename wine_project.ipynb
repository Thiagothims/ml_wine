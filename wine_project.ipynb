{
  "nbformat": 4,
  "nbformat_minor": 0,
  "metadata": {
    "colab": {
      "provenance": [],
      "gpuType": "T4",
      "include_colab_link": true
    },
    "kernelspec": {
      "name": "python3",
      "display_name": "Python 3"
    },
    "language_info": {
      "name": "python"
    },
    "accelerator": "GPU"
  },
  "cells": [
    {
      "cell_type": "markdown",
      "metadata": {
        "id": "view-in-github",
        "colab_type": "text"
      },
      "source": [
        "<a href=\"https://colab.research.google.com/github/Thiagothims/ml_wine/blob/main/wine_project.ipynb\" target=\"_parent\"><img src=\"https://colab.research.google.com/assets/colab-badge.svg\" alt=\"Open In Colab\"/></a>"
      ]
    },
    {
      "cell_type": "markdown",
      "source": [
        "Importação das bibliotecas utilizadas ao longo do desenvolvimento do proejto"
      ],
      "metadata": {
        "id": "ahVu1rP10xe9"
      }
    },
    {
      "cell_type": "code",
      "execution_count": 142,
      "metadata": {
        "id": "N-SCFJaU-AY1"
      },
      "outputs": [],
      "source": [
        "import pandas as pd\n",
        "import numpy as np\n",
        "from sklearn.cluster import KMeans\n",
        "from sklearn.preprocessing import StandardScaler\n",
        "import matplotlib.pyplot as plt\n",
        "import seaborn as sns\n",
        "import warnings\n",
        "from sklearn.preprocessing import OrdinalEncoder\n",
        "from tqdm import tqdm\n",
        "from sklearn.model_selection import train_test_split"
      ]
    },
    {
      "cell_type": "markdown",
      "source": [
        "Carregamento dos dados"
      ],
      "metadata": {
        "id": "zcicb2v505kj"
      }
    },
    {
      "cell_type": "code",
      "source": [
        "from google.colab import drive\n",
        "drive.mount('/content/drive')\n",
        "file_path = '/content/drive/MyDrive/Colab Notebooks/winemag-data_first150k.csv'\n",
        "df = pd.read_csv(file_path)"
      ],
      "metadata": {
        "id": "U0fciBzD4AAv",
        "colab": {
          "base_uri": "https://localhost:8080/"
        },
        "outputId": "c065e4e0-0063-47fb-8bbe-3948fe5b0a6b"
      },
      "execution_count": 143,
      "outputs": [
        {
          "output_type": "stream",
          "name": "stdout",
          "text": [
            "Drive already mounted at /content/drive; to attempt to forcibly remount, call drive.mount(\"/content/drive\", force_remount=True).\n"
          ]
        }
      ]
    },
    {
      "cell_type": "markdown",
      "source": [
        "Avaliar o cabeçalho do dataset"
      ],
      "metadata": {
        "id": "97jZz7Kv0_jc"
      }
    },
    {
      "cell_type": "code",
      "source": [
        "print(df.head())"
      ],
      "metadata": {
        "id": "w7u2CUQe5Dsd",
        "colab": {
          "base_uri": "https://localhost:8080/"
        },
        "outputId": "968ba850-b450-432a-aa15-b5cd16d727c0"
      },
      "execution_count": 144,
      "outputs": [
        {
          "output_type": "stream",
          "name": "stdout",
          "text": [
            "   Unnamed: 0 country                                        description  \\\n",
            "0           0      US  This tremendous 100% varietal wine hails from ...   \n",
            "1           1   Spain  Ripe aromas of fig, blackberry and cassis are ...   \n",
            "2           2      US  Mac Watson honors the memory of a wine once ma...   \n",
            "3           3      US  This spent 20 months in 30% new French oak, an...   \n",
            "4           4  France  This is the top wine from La Bégude, named aft...   \n",
            "\n",
            "                            designation  points  price        province  \\\n",
            "0                     Martha's Vineyard      96  235.0      California   \n",
            "1  Carodorum Selección Especial Reserva      96  110.0  Northern Spain   \n",
            "2         Special Selected Late Harvest      96   90.0      California   \n",
            "3                               Reserve      96   65.0          Oregon   \n",
            "4                            La Brûlade      95   66.0        Provence   \n",
            "\n",
            "            region_1           region_2             variety  \\\n",
            "0        Napa Valley               Napa  Cabernet Sauvignon   \n",
            "1               Toro                NaN       Tinta de Toro   \n",
            "2     Knights Valley             Sonoma     Sauvignon Blanc   \n",
            "3  Willamette Valley  Willamette Valley          Pinot Noir   \n",
            "4             Bandol                NaN  Provence red blend   \n",
            "\n",
            "                    winery  \n",
            "0                    Heitz  \n",
            "1  Bodega Carmen Rodríguez  \n",
            "2                 Macauley  \n",
            "3                    Ponzi  \n",
            "4     Domaine de la Bégude  \n"
          ]
        }
      ]
    },
    {
      "cell_type": "markdown",
      "source": [
        "Visualizar o tamanho da matrix"
      ],
      "metadata": {
        "id": "Tv3GfytF1Hed"
      }
    },
    {
      "cell_type": "code",
      "source": [
        "print(df.shape)"
      ],
      "metadata": {
        "id": "qMb2XoUuCzYa",
        "colab": {
          "base_uri": "https://localhost:8080/"
        },
        "outputId": "9d7f3293-1085-4c70-f376-0aaa5805946d"
      },
      "execution_count": 145,
      "outputs": [
        {
          "output_type": "stream",
          "name": "stdout",
          "text": [
            "(150930, 11)\n"
          ]
        }
      ]
    },
    {
      "cell_type": "markdown",
      "source": [
        "Após analisar o tamanho do dataset, obter uma amostra é uma abordagem recomendada, considerando principalmente a capacidade computacional necessária para lidar com os processos necessários apra analise e predição dos resultados"
      ],
      "metadata": {
        "id": "IumlMB141L_T"
      }
    },
    {
      "cell_type": "code",
      "source": [
        "df_sample = df.sample(frac=0.3, random_state=123)\n",
        "\n",
        "print(df_sample.shape)"
      ],
      "metadata": {
        "colab": {
          "base_uri": "https://localhost:8080/"
        },
        "id": "mDiweS2I1htU",
        "outputId": "c53fe99e-aa65-484c-e689-5b3b914b6f7b"
      },
      "execution_count": 146,
      "outputs": [
        {
          "output_type": "stream",
          "name": "stdout",
          "text": [
            "(45279, 11)\n"
          ]
        }
      ]
    },
    {
      "cell_type": "markdown",
      "source": [
        "Camparação do tamanho da amostra"
      ],
      "metadata": {
        "id": "6pSeBHxZ9r9p"
      }
    },
    {
      "cell_type": "code",
      "source": [
        "print('Total de registro: ' + str(df.shape[0]))\n",
        "print('Amostragem de 30%: ' + str(df_sample.shape[0]))"
      ],
      "metadata": {
        "colab": {
          "base_uri": "https://localhost:8080/"
        },
        "id": "NYF5FSMZ9rPB",
        "outputId": "ee89fbc5-8214-4371-9ad2-196a69ddce4f"
      },
      "execution_count": 147,
      "outputs": [
        {
          "output_type": "stream",
          "name": "stdout",
          "text": [
            "Total de registro: 150930\n",
            "Amostragem de 30%: 45279\n"
          ]
        }
      ]
    },
    {
      "cell_type": "markdown",
      "source": [
        "Informações sobre os dados quanto seu tamanho em MB, tipo dos dados de cada coluna"
      ],
      "metadata": {
        "id": "TRkLDin1-0-B"
      }
    },
    {
      "cell_type": "code",
      "source": [
        "print(df_sample.info())"
      ],
      "metadata": {
        "id": "Zr7xaRZ1BWRw",
        "colab": {
          "base_uri": "https://localhost:8080/"
        },
        "outputId": "8a0e829f-b18c-4a07-dbe1-01cd2a8e1971"
      },
      "execution_count": 149,
      "outputs": [
        {
          "output_type": "stream",
          "name": "stdout",
          "text": [
            "<class 'pandas.core.frame.DataFrame'>\n",
            "Index: 45279 entries, 90289 to 10552\n",
            "Data columns (total 11 columns):\n",
            " #   Column       Non-Null Count  Dtype  \n",
            "---  ------       --------------  -----  \n",
            " 0   Unnamed: 0   45279 non-null  int64  \n",
            " 1   country      45278 non-null  object \n",
            " 2   description  45279 non-null  object \n",
            " 3   designation  31669 non-null  object \n",
            " 4   points       45279 non-null  int64  \n",
            " 5   price        41174 non-null  float64\n",
            " 6   province     45278 non-null  object \n",
            " 7   region_1     37736 non-null  object \n",
            " 8   region_2     18320 non-null  object \n",
            " 9   variety      45279 non-null  object \n",
            " 10  winery       45279 non-null  object \n",
            "dtypes: float64(1), int64(2), object(8)\n",
            "memory usage: 4.1+ MB\n",
            "None\n"
          ]
        }
      ]
    },
    {
      "cell_type": "markdown",
      "source": [
        "Após avaliação de foco das analises, houve a decisão de retirar algumas colunas que neste momento atrapalhariam na questão conputacional e gerariam alguns ruidos desnecessários"
      ],
      "metadata": {
        "id": "mTuVxTbZ_F_Q"
      }
    },
    {
      "cell_type": "code",
      "source": [
        "df_sample = df_sample.drop(['Unnamed: 0', 'description', 'designation', 'region_1', 'region_2', 'winery'], axis=1)\n",
        "print(df_sample.info())"
      ],
      "metadata": {
        "id": "rh17NpywErEa",
        "colab": {
          "base_uri": "https://localhost:8080/"
        },
        "outputId": "8543e913-7230-47d8-d532-61cfb98125d4"
      },
      "execution_count": 150,
      "outputs": [
        {
          "output_type": "stream",
          "name": "stdout",
          "text": [
            "<class 'pandas.core.frame.DataFrame'>\n",
            "Index: 45279 entries, 90289 to 10552\n",
            "Data columns (total 5 columns):\n",
            " #   Column    Non-Null Count  Dtype  \n",
            "---  ------    --------------  -----  \n",
            " 0   country   45278 non-null  object \n",
            " 1   points    45279 non-null  int64  \n",
            " 2   price     41174 non-null  float64\n",
            " 3   province  45278 non-null  object \n",
            " 4   variety   45279 non-null  object \n",
            "dtypes: float64(1), int64(1), object(3)\n",
            "memory usage: 2.1+ MB\n",
            "None\n"
          ]
        }
      ]
    },
    {
      "cell_type": "markdown",
      "source": [
        "Verificação de dados nulos na amostra"
      ],
      "metadata": {
        "id": "ldTdLZIwATE4"
      }
    },
    {
      "cell_type": "code",
      "source": [
        "print(df_sample.isnull().sum())"
      ],
      "metadata": {
        "id": "Bm2Y807cC8Sx",
        "colab": {
          "base_uri": "https://localhost:8080/"
        },
        "outputId": "92b50bc1-d2f2-4e89-9904-08f327131639"
      },
      "execution_count": 151,
      "outputs": [
        {
          "output_type": "stream",
          "name": "stdout",
          "text": [
            "country        1\n",
            "points         0\n",
            "price       4105\n",
            "province       1\n",
            "variety        0\n",
            "dtype: int64\n"
          ]
        }
      ]
    },
    {
      "cell_type": "markdown",
      "source": [
        "Exclusão dos dados nulos e comparação do restante da amostra"
      ],
      "metadata": {
        "id": "uwd_8kVMAaud"
      }
    },
    {
      "cell_type": "code",
      "source": [
        "df_sample_cleaned = df_sample.dropna()\n",
        "excluded = len(df_sample) - len(df_sample_cleaned)\n",
        "\n",
        "print('Quantidade de dados excluidos: ' + str(excluded))\n",
        "print('Quantidade de dados restantes: ' + str(len(df_sample_cleaned)) + '\\n')\n",
        "\n",
        "# Verificar se ainda exietem dados nulos\n",
        "print(df_sample_cleaned.isnull().sum())"
      ],
      "metadata": {
        "id": "Resg8kkyDjPm",
        "colab": {
          "base_uri": "https://localhost:8080/"
        },
        "outputId": "57acda4e-c80b-4b63-a6c5-048c1c53e85e"
      },
      "execution_count": 152,
      "outputs": [
        {
          "output_type": "stream",
          "name": "stdout",
          "text": [
            "Quantidade de dados excluidos: 4106\n",
            "Quantidade de dados restantes: 41173\n",
            "\n",
            "country     0\n",
            "points      0\n",
            "price       0\n",
            "province    0\n",
            "variety     0\n",
            "dtype: int64\n"
          ]
        }
      ]
    },
    {
      "cell_type": "markdown",
      "source": [
        "Percentual atual da amostra"
      ],
      "metadata": {
        "id": "YIkikZKHA6qQ"
      }
    },
    {
      "cell_type": "code",
      "source": [
        "total = df.shape[0]\n",
        "value_old = df_sample.shape[0]\n",
        "value_new = df_sample_cleaned.shape[0]\n",
        "\n",
        "print('Tamanho total do dataset: ' + str(total))\n",
        "print('Tamanho da amostra: ' + str(value_old))\n",
        "print('Tamanho da amostra após exclusão dos nulos: ' + str(value_new) + '\\n')\n",
        "\n",
        "percent_df_sample = (value_new * 100) / total\n",
        "print('Percentual da amostra após exclusão dos nulos: {:.2f}%'.format(percent_df_sample))"
      ],
      "metadata": {
        "colab": {
          "base_uri": "https://localhost:8080/"
        },
        "id": "hPRhzJKvA5GG",
        "outputId": "7e751b0d-180e-4d6f-9ff3-bd0b3a83dbf3"
      },
      "execution_count": 154,
      "outputs": [
        {
          "output_type": "stream",
          "name": "stdout",
          "text": [
            "Tamanho total do dataset: 150930\n",
            "Tamanho da amostra: 45279\n",
            "Tamanho da amostra após exclusão dos nulos: 41173\n",
            "\n",
            "Percentual da amostra após exclusão dos nulos: 27.28%\n"
          ]
        }
      ]
    },
    {
      "cell_type": "markdown",
      "source": [
        "Redefinindo a variável dos dados para ter mais clareza"
      ],
      "metadata": {
        "id": "JCB8quARHGw5"
      }
    },
    {
      "cell_type": "code",
      "source": [
        "df = df_sample_cleaned"
      ],
      "metadata": {
        "id": "OUFYTnWyHGRf"
      },
      "execution_count": 155,
      "outputs": []
    },
    {
      "cell_type": "code",
      "source": [
        "print(df.head())"
      ],
      "metadata": {
        "id": "j3m-wkuREIik",
        "colab": {
          "base_uri": "https://localhost:8080/"
        },
        "outputId": "ebfdd5b1-6096-4091-f5b8-d17c6d6411d4"
      },
      "execution_count": 156,
      "outputs": [
        {
          "output_type": "stream",
          "name": "stdout",
          "text": [
            "           country  points  price         province          variety\n",
            "90289    Australia      93  110.0  South Australia            Syrah\n",
            "96312  New Zealand      91   20.0      Marlborough  Sauvignon Blanc\n",
            "25520        Spain      87   34.0   Northern Spain      Tempranillo\n",
            "86206    Argentina      87   13.0            Other        Torrontés\n",
            "96887           US      85   25.0       California       Chardonnay\n"
          ]
        }
      ]
    },
    {
      "cell_type": "code",
      "source": [
        "print(df.shape)"
      ],
      "metadata": {
        "id": "FiDuMimrES0K",
        "colab": {
          "base_uri": "https://localhost:8080/"
        },
        "outputId": "1bab2399-9307-4253-bc05-3f7558a994f7"
      },
      "execution_count": 157,
      "outputs": [
        {
          "output_type": "stream",
          "name": "stdout",
          "text": [
            "(41173, 5)\n"
          ]
        }
      ]
    },
    {
      "cell_type": "code",
      "source": [
        "print(df.describe())"
      ],
      "metadata": {
        "colab": {
          "base_uri": "https://localhost:8080/"
        },
        "id": "nJmyXjSnAMzp",
        "outputId": "f264d572-5608-4619-cc71-01c51a98a112"
      },
      "execution_count": 158,
      "outputs": [
        {
          "output_type": "stream",
          "name": "stdout",
          "text": [
            "             points         price\n",
            "count  41173.000000  41173.000000\n",
            "mean      87.796323     33.070216\n",
            "std        3.214958     35.856560\n",
            "min       80.000000      4.000000\n",
            "25%       86.000000     16.000000\n",
            "50%       88.000000     24.000000\n",
            "75%       90.000000     40.000000\n",
            "max      100.000000   1400.000000\n"
          ]
        }
      ]
    },
    {
      "cell_type": "markdown",
      "source": [
        "Etapa de escalonamento e categorização"
      ],
      "metadata": {
        "id": "893FoL35HX8n"
      }
    },
    {
      "cell_type": "code",
      "source": [
        "# Selecionar colunas relevantes para realizar escalonamento\n",
        "numeric_columns = ['points', 'price']\n",
        "\n",
        "scaler = StandardScaler()\n",
        "\n",
        "df_copy = df.copy()\n",
        "\n",
        "print(\"Dados não escalonados:\")\n",
        "print(df_copy[numeric_columns].head())\n",
        "\n",
        "# Escalonar as colunas selecionadas\n",
        "df[numeric_columns] = scaler.fit_transform(df[numeric_columns])\n",
        "\n",
        "print(\"\\nDados escalonados:\")\n",
        "print(df[numeric_columns].head())"
      ],
      "metadata": {
        "id": "qRE8G7dACi8j",
        "colab": {
          "base_uri": "https://localhost:8080/"
        },
        "outputId": "ed548dcd-0cff-4a29-debd-0dba3ce8bfb6"
      },
      "execution_count": 159,
      "outputs": [
        {
          "output_type": "stream",
          "name": "stdout",
          "text": [
            "Dados não escalonados:\n",
            "       points  price\n",
            "90289      93  110.0\n",
            "96312      91   20.0\n",
            "25520      87   34.0\n",
            "86206      87   13.0\n",
            "96887      85   25.0\n",
            "\n",
            "Dados escalonados:\n",
            "         points     price\n",
            "90289  1.618603  2.145513\n",
            "96312  0.996503 -0.364518\n",
            "25520 -0.247696  0.025931\n",
            "86206 -0.247696 -0.559743\n",
            "96887 -0.869796 -0.225072\n"
          ]
        }
      ]
    },
    {
      "cell_type": "code",
      "source": [
        "print(df.head())"
      ],
      "metadata": {
        "id": "eTz6FR-9TCK6",
        "colab": {
          "base_uri": "https://localhost:8080/"
        },
        "outputId": "1abde4e1-553c-4a1b-bcb0-68123843b49b"
      },
      "execution_count": 160,
      "outputs": [
        {
          "output_type": "stream",
          "name": "stdout",
          "text": [
            "           country    points     price         province          variety\n",
            "90289    Australia  1.618603  2.145513  South Australia            Syrah\n",
            "96312  New Zealand  0.996503 -0.364518      Marlborough  Sauvignon Blanc\n",
            "25520        Spain -0.247696  0.025931   Northern Spain      Tempranillo\n",
            "86206    Argentina -0.247696 -0.559743            Other        Torrontés\n",
            "96887           US -0.869796 -0.225072       California       Chardonnay\n"
          ]
        }
      ]
    },
    {
      "cell_type": "code",
      "source": [
        "# Categorização Ordinal\n",
        "string_columns = ['country', 'province', 'variety']\n",
        "\n",
        "ordinal_encoder = OrdinalEncoder()\n",
        "df_encoded = df.copy()\n",
        "\n",
        "df_encoded[string_columns] = ordinal_encoder.fit_transform(df[string_columns])\n",
        "\n",
        "df = df_encoded\n",
        "\n",
        "print(df.head())"
      ],
      "metadata": {
        "id": "MPQlmMOHPRH6",
        "colab": {
          "base_uri": "https://localhost:8080/"
        },
        "outputId": "06248e8e-0cc2-4ffb-ac0c-0fe43a593c97"
      },
      "execution_count": 162,
      "outputs": [
        {
          "output_type": "stream",
          "name": "stdout",
          "text": [
            "       country    points     price  province  variety\n",
            "90289      2.0  1.618603  2.145513     289.0    386.0\n",
            "96312     29.0  0.996503 -0.364518     173.0    351.0\n",
            "25520     36.0 -0.247696  0.025931     220.0    403.0\n",
            "86206      1.0 -0.247696 -0.559743     227.0    424.0\n",
            "96887     38.0 -0.869796 -0.225072      48.0     88.0\n"
          ]
        }
      ]
    },
    {
      "cell_type": "markdown",
      "source": [
        "Visualização do método do \"cotovelo\""
      ],
      "metadata": {
        "id": "Qc2vFmJrIx7H"
      }
    },
    {
      "cell_type": "code",
      "source": [
        "wcss = []\n",
        "\n",
        "k_range = range(1, 11)\n",
        "\n",
        "for k in k_range:\n",
        "    print(k,end=\"\")\n",
        "    kmeans = KMeans(n_clusters=k, random_state=42)\n",
        "    kmeans.fit(df)\n",
        "    wcss.append(kmeans.inertia_)\n",
        "\n",
        "plt.figure(figsize=(10, 6))\n",
        "plt.plot(k_range, wcss, marker='o', color='blue', linestyle='-', linewidth=2)\n",
        "plt.axvline(x=4, color='red', linestyle='--', label='Elbow Point')\n",
        "plt.fill_between(k_range, wcss, alpha=0.1)\n",
        "\n",
        "plt.title('Elbow Method', fontsize=16)\n",
        "plt.xlabel('Number of Clusters', fontsize=14)\n",
        "plt.ylabel('Within-Cluster Sum of Squares (WCSS)', fontsize=14)\n",
        "plt.xticks(k_range, fontsize=12)\n",
        "plt.yticks(fontsize=12)\n",
        "plt.grid(True, linestyle='--', alpha=0.5)\n",
        "plt.legend()\n",
        "\n",
        "plt.tight_layout()\n",
        "plt.show()"
      ],
      "metadata": {
        "colab": {
          "base_uri": "https://localhost:8080/",
          "height": 624
        },
        "id": "yaY4bfBv8Y9K",
        "outputId": "a11e809e-481d-4297-8e7a-4df74f69d55e"
      },
      "execution_count": 178,
      "outputs": [
        {
          "output_type": "stream",
          "name": "stdout",
          "text": [
            "12345678910"
          ]
        },
        {
          "output_type": "display_data",
          "data": {
            "text/plain": [
              "<Figure size 1000x600 with 1 Axes>"
            ],
            "image/png": "[encoded data removed]"
          },
          "metadata": {}
        }
      ]
    },
    {
      "cell_type": "code",
      "source": [
        "n_clusters = 4\n",
        "kmeans = KMeans(n_clusters=n_clusters, random_state=42)\n",
        "kmeans.fit(df)"
      ],
      "metadata": {
        "id": "fLXSz8PIEGQx",
        "colab": {
          "base_uri": "https://localhost:8080/",
          "height": 75
        },
        "outputId": "cb121191-176c-4558-c1a0-1880c03203c9"
      },
      "execution_count": 179,
      "outputs": [
        {
          "output_type": "execute_result",
          "data": {
            "text/plain": [
              "KMeans(n_clusters=4, random_state=42)"
            ],
            "text/html": [
              "<style>#sk-container-id-5 {color: black;background-color: white;}#sk-container-id-5 pre{padding: 0;}#sk-container-id-5 div.sk-toggleable {background-color: white;}#sk-container-id-5 label.sk-toggleable__label {cursor: pointer;display: block;width: 100%;margin-bottom: 0;padding: 0.3em;box-sizing: border-box;text-align: center;}#sk-container-id-5 label.sk-toggleable__label-arrow:before {content: \"▸\";float: left;margin-right: 0.25em;color: #696969;}#sk-container-id-5 label.sk-toggleable__label-arrow:hover:before {color: black;}#sk-container-id-5 div.sk-estimator:hover label.sk-toggleable__label-arrow:before {color: black;}#sk-container-id-5 div.sk-toggleable__content {max-height: 0;max-width: 0;overflow: hidden;text-align: left;background-color: #f0f8ff;}#sk-container-id-5 div.sk-toggleable__content pre {margin: 0.2em;color: black;border-radius: 0.25em;background-color: #f0f8ff;}#sk-container-id-5 input.sk-toggleable__control:checked~div.sk-toggleable__content {max-height: 200px;max-width: 100%;overflow: auto;}#sk-container-id-5 input.sk-toggleable__control:checked~label.sk-toggleable__label-arrow:before {content: \"▾\";}#sk-container-id-5 div.sk-estimator input.sk-toggleable__control:checked~label.sk-toggleable__label {background-color: #d4ebff;}#sk-container-id-5 div.sk-label input.sk-toggleable__control:checked~label.sk-toggleable__label {background-color: #d4ebff;}#sk-container-id-5 input.sk-hidden--visually {border: 0;clip: rect(1px 1px 1px 1px);clip: rect(1px, 1px, 1px, 1px);height: 1px;margin: -1px;overflow: hidden;padding: 0;position: absolute;width: 1px;}#sk-container-id-5 div.sk-estimator {font-family: monospace;background-color: #f0f8ff;border: 1px dotted black;border-radius: 0.25em;box-sizing: border-box;margin-bottom: 0.5em;}#sk-container-id-5 div.sk-estimator:hover {background-color: #d4ebff;}#sk-container-id-5 div.sk-parallel-item::after {content: \"\";width: 100%;border-bottom: 1px solid gray;flex-grow: 1;}#sk-container-id-5 div.sk-label:hover label.sk-toggleable__label {background-color: #d4ebff;}#sk-container-id-5 div.sk-serial::before {content: \"\";position: absolute;border-left: 1px solid gray;box-sizing: border-box;top: 0;bottom: 0;left: 50%;z-index: 0;}#sk-container-id-5 div.sk-serial {display: flex;flex-direction: column;align-items: center;background-color: white;padding-right: 0.2em;padding-left: 0.2em;position: relative;}#sk-container-id-5 div.sk-item {position: relative;z-index: 1;}#sk-container-id-5 div.sk-parallel {display: flex;align-items: stretch;justify-content: center;background-color: white;position: relative;}#sk-container-id-5 div.sk-item::before, #sk-container-id-5 div.sk-parallel-item::before {content: \"\";position: absolute;border-left: 1px solid gray;box-sizing: border-box;top: 0;bottom: 0;left: 50%;z-index: -1;}#sk-container-id-5 div.sk-parallel-item {display: flex;flex-direction: column;z-index: 1;position: relative;background-color: white;}#sk-container-id-5 div.sk-parallel-item:first-child::after {align-self: flex-end;width: 50%;}#sk-container-id-5 div.sk-parallel-item:last-child::after {align-self: flex-start;width: 50%;}#sk-container-id-5 div.sk-parallel-item:only-child::after {width: 0;}#sk-container-id-5 div.sk-dashed-wrapped {border: 1px dashed gray;margin: 0 0.4em 0.5em 0.4em;box-sizing: border-box;padding-bottom: 0.4em;background-color: white;}#sk-container-id-5 div.sk-label label {font-family: monospace;font-weight: bold;display: inline-block;line-height: 1.2em;}#sk-container-id-5 div.sk-label-container {text-align: center;}#sk-container-id-5 div.sk-container {/* jupyter's `normalize.less` sets `[hidden] { display: none; }` but bootstrap.min.css set `[hidden] { display: none !important; }` so we also need the `!important` here to be able to override the default hidden behavior on the sphinx rendered scikit-learn.org. See: https://github.com/scikit-learn/scikit-learn/issues/21755 */display: inline-block !important;position: relative;}#sk-container-id-5 div.sk-text-repr-fallback {display: none;}</style><div id=\"sk-container-id-5\" class=\"sk-top-container\"><div class=\"sk-text-repr-fallback\"><pre>KMeans(n_clusters=4, random_state=42)</pre><b>In a Jupyter environment, please rerun this cell to show the HTML representation or trust the notebook. <br />On GitHub, the HTML representation is unable to render, please try loading this page with nbviewer.org.</b></div><div class=\"sk-container\" hidden><div class=\"sk-item\"><div class=\"sk-estimator sk-toggleable\"><input class=\"sk-toggleable__control sk-hidden--visually\" id=\"sk-estimator-id-5\" type=\"checkbox\" checked><label for=\"sk-estimator-id-5\" class=\"sk-toggleable__label sk-toggleable__label-arrow\">KMeans</label><div class=\"sk-toggleable__content\"><pre>KMeans(n_clusters=4, random_state=42)</pre></div></div></div></div></div>"
            ]
          },
          "metadata": {},
          "execution_count": 179
        }
      ]
    },
    {
      "cell_type": "markdown",
      "source": [
        "Treinamento e Teste"
      ],
      "metadata": {
        "id": "dlnP4yXMGHAo"
      }
    },
    {
      "cell_type": "code",
      "source": [
        "columns_clustering = ['country', 'price', 'points', 'province', 'variety' ]\n",
        "\n",
        "X = data_encoded\n",
        "\n",
        "X_ = X[columns_clustering]"
      ],
      "metadata": {
        "id": "E_4TV2Q0C1Pp"
      },
      "execution_count": null,
      "outputs": []
    },
    {
      "cell_type": "code",
      "source": [
        "print(X.head())"
      ],
      "metadata": {
        "id": "9OYHz0YODh_y"
      },
      "execution_count": null,
      "outputs": []
    },
    {
      "cell_type": "code",
      "source": [
        "# Visualizar a distribuição das variáveis numéricas\n",
        "plt.figure(figsize=(12, 6))\n",
        "for i, col in enumerate(numeric_columns, 1):\n",
        "    plt.subplot(1, len(numeric_columns), i)\n",
        "    sns.histplot(data_cleaned[col], kde=True)\n",
        "    plt.title(col)\n",
        "plt.tight_layout()\n",
        "plt.show()"
      ],
      "metadata": {
        "id": "I6eQKQXsxL3u"
      },
      "execution_count": null,
      "outputs": []
    },
    {
      "cell_type": "code",
      "source": [
        "# Identificar outliers usando boxplots\n",
        "plt.figure(figsize=(12, 6))\n",
        "for i, col in enumerate(numeric_columns, 1):\n",
        "    plt.subplot(1, len(numeric_columns), i)\n",
        "    sns.boxplot(data_cleaned[col])\n",
        "    plt.title(col)\n",
        "plt.tight_layout()\n",
        "plt.show()"
      ],
      "metadata": {
        "id": "p9yBPhGexTL6"
      },
      "execution_count": null,
      "outputs": []
    },
    {
      "cell_type": "code",
      "source": [
        "# Verificar correlações entre as variáveis numéricas\n",
        "corr_matrix = data_cleaned[numeric_columns].corr()\n",
        "plt.figure(figsize=(8, 6))\n",
        "sns.heatmap(corr_matrix, annot=True, cmap='coolwarm')\n",
        "plt.title('Correlation Matrix')\n",
        "plt.show()"
      ],
      "metadata": {
        "id": "QBQh5pF_xYro"
      },
      "execution_count": null,
      "outputs": []
    },
    {
      "cell_type": "markdown",
      "source": [
        "Aplicação de PCA"
      ],
      "metadata": {
        "id": "ZZnPrZxdxeDv"
      }
    },
    {
      "cell_type": "code",
      "source": [
        "from sklearn.decomposition import PCA\n",
        "\n",
        "# Aplicar PCA aos dados escalonados\n",
        "pca = PCA()\n",
        "pca_transformed = pca.fit_transform(data_scaled[numeric_columns])"
      ],
      "metadata": {
        "id": "iWZRFYTVxgCk"
      },
      "execution_count": null,
      "outputs": []
    },
    {
      "cell_type": "code",
      "source": [
        "# Visualizar a variância explicada por cada componente principal\n",
        "plt.figure(figsize=(8, 6))\n",
        "plt.plot(range(1, len(pca.explained_variance_ratio_) + 1), pca.explained_variance_ratio_.cumsum(), marker='o')\n",
        "plt.xlabel('Number of Components')\n",
        "plt.ylabel('Cumulative Explained Variance')\n",
        "plt.title('Explained Variance by Principal Components')\n",
        "plt.show()"
      ],
      "metadata": {
        "id": "K_ZfZa4txmR7"
      },
      "execution_count": null,
      "outputs": []
    },
    {
      "cell_type": "code",
      "source": [
        "# Selecionar o número de componentes principais com base na variância explicada desejada\n",
        "n_components = np.argmax(pca.explained_variance_ratio_.cumsum() >= 0.95) + 1"
      ],
      "metadata": {
        "id": "-6R1IJDyxrhN"
      },
      "execution_count": null,
      "outputs": []
    },
    {
      "cell_type": "code",
      "source": [
        "# Aplicar PCA com o número selecionado de componentes\n",
        "pca = PCA(n_components=n_components)\n",
        "data_pca = pca.fit_transform(data_scaled[numeric_columns])"
      ],
      "metadata": {
        "id": "BRxTOko2xtRE"
      },
      "execution_count": null,
      "outputs": []
    },
    {
      "cell_type": "code",
      "source": [
        "# Adicionar as componentes principais ao dataframe\n",
        "pca_columns = [f'PC{i+1}' for i in range(n_components)]\n",
        "data_encoded[pca_columns] = data_pca"
      ],
      "metadata": {
        "id": "7ZTMdbjVxwcd"
      },
      "execution_count": null,
      "outputs": []
    },
    {
      "cell_type": "markdown",
      "source": [
        "Experimentar Diferentes Métricas de Distância"
      ],
      "metadata": {
        "id": "xviAth7Px1xf"
      }
    },
    {
      "cell_type": "code",
      "source": [
        "from sklearn.metrics import silhouette_score\n",
        "\n",
        "# Definir as métricas de distância a serem testadas\n",
        "# distance_metrics = ['euclidean']\n",
        "distance_metrics = ['euclidean', 'manhattan', 'minkowski']"
      ],
      "metadata": {
        "id": "sTgAxEAVx3gD"
      },
      "execution_count": null,
      "outputs": []
    },
    {
      "cell_type": "code",
      "source": [
        "# Inicializar um dicionário para armazenar os resultados\n",
        "silhouette_scores = {}"
      ],
      "metadata": {
        "id": "6m1U8JLVx6Qe"
      },
      "execution_count": null,
      "outputs": []
    },
    {
      "cell_type": "code",
      "source": [
        "# Testar diferentes métricas de distância\n",
        "for metric in distance_metrics:\n",
        "    kmeans = KMeans(n_clusters=k, random_state=42)\n",
        "    kmeans.fit(data_encoded)\n",
        "    labels = kmeans.labels_\n",
        "    silhouette_avg = silhouette_score(data_encoded, labels, metric=metric)\n",
        "    silhouette_scores[metric] = silhouette_avg"
      ],
      "metadata": {
        "id": "SDFnYAbvx8Va"
      },
      "execution_count": null,
      "outputs": []
    },
    {
      "cell_type": "code",
      "source": [
        "# Visualizar os resultados\n",
        "plt.figure(figsize=(8, 6))\n",
        "sns.barplot(x=list(silhouette_scores.keys()), y=list(silhouette_scores.values()))\n",
        "plt.xlabel('Distance Metric')\n",
        "plt.ylabel('Silhouette Score')\n",
        "plt.title('Silhouette Scores for Different Distance Metrics')\n",
        "plt.show()"
      ],
      "metadata": {
        "id": "MPIH3I-Ax-wm"
      },
      "execution_count": null,
      "outputs": []
    }
  ]
}