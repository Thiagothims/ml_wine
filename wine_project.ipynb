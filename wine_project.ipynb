{
  "nbformat": 4,
  "nbformat_minor": 0,
  "metadata": {
    "colab": {
      "provenance": [],
      "mount_file_id": "1CSCSyRFS2muX5vt8VOXGyrb0yMxJh-o8",
      "authorship_tag": "ABX9TyMd63NxvNM6HdPI3BdQ3cVa",
      "include_colab_link": true
    },
    "kernelspec": {
      "name": "python3",
      "display_name": "Python 3"
    },
    "language_info": {
      "name": "python"
    }
  },
  "cells": [
    {
      "cell_type": "markdown",
      "metadata": {
        "id": "view-in-github",
        "colab_type": "text"
      },
      "source": [
        "<a href=\"https://colab.research.google.com/github/Thiagothims/ml_wine/blob/main/wine_project.ipynb\" target=\"_parent\"><img src=\"https://colab.research.google.com/assets/colab-badge.svg\" alt=\"Open In Colab\"/></a>"
      ]
    },
    {
      "cell_type": "code",
      "execution_count": 30,
      "metadata": {
        "id": "N-SCFJaU-AY1"
      },
      "outputs": [],
      "source": [
        "# Importação das biblitecas\n",
        "import pandas as pd\n",
        "import numpy as np\n",
        "from sklearn.cluster import KMeans\n",
        "from sklearn.preprocessing import StandardScaler\n",
        "import matplotlib.pyplot as plt"
      ]
    },
    {
      "cell_type": "code",
      "source": [
        "# Carregar o arquivo que será utilizado\n",
        "data = pd.read_csv('/content/sample_data/winemag-data_first150k.csv')\n",
        "\n",
        "# Visualizar as primeiras linhas dos dados\n",
        "print(data.head(3))"
      ],
      "metadata": {
        "colab": {
          "base_uri": "https://localhost:8080/"
        },
        "id": "CRQ6QOLwAowA",
        "outputId": "7573a5b3-9f93-40a0-b5c9-5c071aec6b26"
      },
      "execution_count": 31,
      "outputs": [
        {
          "output_type": "stream",
          "name": "stdout",
          "text": [
            "   Unnamed: 0 country                                        description  \\\n",
            "0           0      US  This tremendous 100% varietal wine hails from ...   \n",
            "1           1   Spain  Ripe aromas of fig, blackberry and cassis are ...   \n",
            "2           2      US  Mac Watson honors the memory of a wine once ma...   \n",
            "\n",
            "                            designation  points  price        province  \\\n",
            "0                     Martha's Vineyard      96  235.0      California   \n",
            "1  Carodorum Selección Especial Reserva      96  110.0  Northern Spain   \n",
            "2         Special Selected Late Harvest      96   90.0      California   \n",
            "\n",
            "         region_1 region_2             variety                   winery  \n",
            "0     Napa Valley     Napa  Cabernet Sauvignon                    Heitz  \n",
            "1            Toro      NaN       Tinta de Toro  Bodega Carmen Rodríguez  \n",
            "2  Knights Valley   Sonoma     Sauvignon Blanc                 Macauley  \n"
          ]
        }
      ]
    },
    {
      "cell_type": "code",
      "source": [
        "# Visualizar o tamanho da matriz\n",
        "print(data.shape)"
      ],
      "metadata": {
        "colab": {
          "base_uri": "https://localhost:8080/"
        },
        "id": "qMb2XoUuCzYa",
        "outputId": "af73ffad-ff7c-40d3-9b3d-033185582562"
      },
      "execution_count": 32,
      "outputs": [
        {
          "output_type": "stream",
          "name": "stdout",
          "text": [
            "(150930, 11)\n"
          ]
        }
      ]
    },
    {
      "cell_type": "code",
      "source": [
        "# Visualizar as informações básicas sobre os dados\n",
        "print(data.info())"
      ],
      "metadata": {
        "colab": {
          "base_uri": "https://localhost:8080/"
        },
        "id": "Zr7xaRZ1BWRw",
        "outputId": "85e72037-8317-4d2e-fba2-180ad43a381f"
      },
      "execution_count": 33,
      "outputs": [
        {
          "output_type": "stream",
          "name": "stdout",
          "text": [
            "<class 'pandas.core.frame.DataFrame'>\n",
            "RangeIndex: 150930 entries, 0 to 150929\n",
            "Data columns (total 11 columns):\n",
            " #   Column       Non-Null Count   Dtype  \n",
            "---  ------       --------------   -----  \n",
            " 0   Unnamed: 0   150930 non-null  int64  \n",
            " 1   country      150925 non-null  object \n",
            " 2   description  150930 non-null  object \n",
            " 3   designation  105195 non-null  object \n",
            " 4   points       150930 non-null  int64  \n",
            " 5   price        137235 non-null  float64\n",
            " 6   province     150925 non-null  object \n",
            " 7   region_1     125870 non-null  object \n",
            " 8   region_2     60953 non-null   object \n",
            " 9   variety      150930 non-null  object \n",
            " 10  winery       150930 non-null  object \n",
            "dtypes: float64(1), int64(2), object(8)\n",
            "memory usage: 12.7+ MB\n",
            "None\n"
          ]
        }
      ]
    },
    {
      "cell_type": "code",
      "source": [
        "# excluir coluna que não é relevante\n",
        "data = data.drop(['Unnamed: 0', 'description', 'designation'], axis=1)\n",
        "print(data.info())"
      ],
      "metadata": {
        "colab": {
          "base_uri": "https://localhost:8080/"
        },
        "id": "rh17NpywErEa",
        "outputId": "94ab5419-6b5b-410c-f599-720ae376c7f0"
      },
      "execution_count": 34,
      "outputs": [
        {
          "output_type": "stream",
          "name": "stdout",
          "text": [
            "<class 'pandas.core.frame.DataFrame'>\n",
            "RangeIndex: 150930 entries, 0 to 150929\n",
            "Data columns (total 8 columns):\n",
            " #   Column    Non-Null Count   Dtype  \n",
            "---  ------    --------------   -----  \n",
            " 0   country   150925 non-null  object \n",
            " 1   points    150930 non-null  int64  \n",
            " 2   price     137235 non-null  float64\n",
            " 3   province  150925 non-null  object \n",
            " 4   region_1  125870 non-null  object \n",
            " 5   region_2  60953 non-null   object \n",
            " 6   variety   150930 non-null  object \n",
            " 7   winery    150930 non-null  object \n",
            "dtypes: float64(1), int64(1), object(6)\n",
            "memory usage: 9.2+ MB\n",
            "None\n"
          ]
        }
      ]
    },
    {
      "cell_type": "code",
      "source": [
        "# Visualizar estatísticas descritivas dos dados\n",
        "print(data.describe())"
      ],
      "metadata": {
        "id": "PTdFRWp0BfYZ",
        "colab": {
          "base_uri": "https://localhost:8080/"
        },
        "outputId": "99f950c5-5b18-40e6-fd0b-334822ada18d"
      },
      "execution_count": 35,
      "outputs": [
        {
          "output_type": "stream",
          "name": "stdout",
          "text": [
            "              points          price\n",
            "count  150930.000000  137235.000000\n",
            "mean       87.888418      33.131482\n",
            "std         3.222392      36.322536\n",
            "min        80.000000       4.000000\n",
            "25%        86.000000      16.000000\n",
            "50%        88.000000      24.000000\n",
            "75%        90.000000      40.000000\n",
            "max       100.000000    2300.000000\n"
          ]
        }
      ]
    },
    {
      "cell_type": "code",
      "source": [
        "# Valores nulos por coluna\n",
        "print(data.isnull().sum())"
      ],
      "metadata": {
        "colab": {
          "base_uri": "https://localhost:8080/"
        },
        "id": "Bm2Y807cC8Sx",
        "outputId": "0fa0e8e1-cb28-45ed-9d9f-486f3090a0bf"
      },
      "execution_count": 36,
      "outputs": [
        {
          "output_type": "stream",
          "name": "stdout",
          "text": [
            "country         5\n",
            "points          0\n",
            "price       13695\n",
            "province        5\n",
            "region_1    25060\n",
            "region_2    89977\n",
            "variety         0\n",
            "winery          0\n",
            "dtype: int64\n"
          ]
        }
      ]
    },
    {
      "cell_type": "code",
      "source": [
        "# Realizar exclusão de todas as linhas que contenham valores nulos\n",
        "data_cleaned = data.dropna()\n",
        "excluded = len(data) - len(data_cleaned)\n",
        "\n",
        "print('Quantidade de dados excluidos: ' + str(excluded))\n",
        "print('Quantidade de dados restantes: ' + str(len(data_cleaned)))"
      ],
      "metadata": {
        "colab": {
          "base_uri": "https://localhost:8080/"
        },
        "id": "Resg8kkyDjPm",
        "outputId": "416e84b8-026f-42eb-c554-ae421f2de853"
      },
      "execution_count": 43,
      "outputs": [
        {
          "output_type": "stream",
          "name": "stdout",
          "text": [
            "Quantidade de dados excluidos: 90226\n",
            "Quantidade de dados restantes: 60704\n",
            "Total: 150930\n"
          ]
        }
      ]
    },
    {
      "cell_type": "code",
      "source": [
        "print(data_cleaned.head())"
      ],
      "metadata": {
        "colab": {
          "base_uri": "https://localhost:8080/"
        },
        "id": "j3m-wkuREIik",
        "outputId": "8b5ad40e-dab4-4c00-8ca3-3e4f6e28a4bb"
      },
      "execution_count": 46,
      "outputs": [
        {
          "output_type": "stream",
          "name": "stdout",
          "text": [
            "  country  points  price    province            region_1           region_2  \\\n",
            "0      US      96  235.0  California         Napa Valley               Napa   \n",
            "2      US      96   90.0  California      Knights Valley             Sonoma   \n",
            "3      US      96   65.0      Oregon   Willamette Valley  Willamette Valley   \n",
            "8      US      95   65.0      Oregon  Chehalem Mountains  Willamette Valley   \n",
            "9      US      95   60.0  California        Sonoma Coast             Sonoma   \n",
            "\n",
            "              variety     winery  \n",
            "0  Cabernet Sauvignon      Heitz  \n",
            "2     Sauvignon Blanc   Macauley  \n",
            "3          Pinot Noir      Ponzi  \n",
            "8          Pinot Noir  Bergström  \n",
            "9          Pinot Noir  Blue Farm  \n"
          ]
        }
      ]
    },
    {
      "cell_type": "code",
      "source": [
        "print(data_cleaned.shape)"
      ],
      "metadata": {
        "colab": {
          "base_uri": "https://localhost:8080/"
        },
        "id": "FiDuMimrES0K",
        "outputId": "436d2eef-1692-46e4-93d9-3fb6fcf5e56a"
      },
      "execution_count": 47,
      "outputs": [
        {
          "output_type": "stream",
          "name": "stdout",
          "text": [
            "(60704, 8)\n"
          ]
        }
      ]
    },
    {
      "cell_type": "code",
      "source": [
        "# Selecionar colunas relevantes para realizar escalonamento\n",
        "\n",
        "numeric_columns = ['points', 'price']\n",
        "\n",
        "scaler = StandardScaler()\n",
        "\n",
        "data_scaled = data_cleaned.copy()\n",
        "\n",
        "print(\"Dados não escalonados:\")\n",
        "print(data_scaled[numeric_columns].head())\n",
        "print(data_scaled.shape[0])\n",
        "\n",
        "# Escalonar as colunas selecionadas\n",
        "data_scaled[numeric_columns] = scaler.fit_transform(data_cleaned[numeric_columns])\n",
        "\n",
        "print(\"\\nDados escalonados:\")\n",
        "print(data_scaled[numeric_columns].head())\n",
        "print(data_scaled.shape[0])\n"
      ],
      "metadata": {
        "id": "qRE8G7dACi8j",
        "colab": {
          "base_uri": "https://localhost:8080/"
        },
        "outputId": "c2e417da-14a4-4dc9-f988-74827bd755a3"
      },
      "execution_count": 52,
      "outputs": [
        {
          "output_type": "stream",
          "name": "stdout",
          "text": [
            "Dados não escalonados:\n",
            "   points  price\n",
            "0      96  235.0\n",
            "2      96   90.0\n",
            "3      96   65.0\n",
            "8      95   65.0\n",
            "9      95   60.0\n",
            "60704\n",
            "\n",
            "Dados escalonados:\n",
            "     points     price\n",
            "0  2.392941  8.067597\n",
            "2  2.392941  2.255638\n",
            "3  2.392941  1.253576\n",
            "8  2.098916  1.253576\n",
            "9  2.098916  1.053164\n",
            "60704\n"
          ]
        }
      ]
    },
    {
      "cell_type": "code",
      "source": [
        "print(data_scaled.head())"
      ],
      "metadata": {
        "colab": {
          "base_uri": "https://localhost:8080/"
        },
        "id": "eTz6FR-9TCK6",
        "outputId": "f8275920-2da4-480c-f541-439ccc201cb8"
      },
      "execution_count": 53,
      "outputs": [
        {
          "output_type": "stream",
          "name": "stdout",
          "text": [
            "  country    points     price    province            region_1  \\\n",
            "0      US  2.392941  8.067597  California         Napa Valley   \n",
            "2      US  2.392941  2.255638  California      Knights Valley   \n",
            "3      US  2.392941  1.253576      Oregon   Willamette Valley   \n",
            "8      US  2.098916  1.253576      Oregon  Chehalem Mountains   \n",
            "9      US  2.098916  1.053164  California        Sonoma Coast   \n",
            "\n",
            "            region_2             variety     winery  \n",
            "0               Napa  Cabernet Sauvignon      Heitz  \n",
            "2             Sonoma     Sauvignon Blanc   Macauley  \n",
            "3  Willamette Valley          Pinot Noir      Ponzi  \n",
            "8  Willamette Valley          Pinot Noir  Bergström  \n",
            "9             Sonoma          Pinot Noir  Blue Farm  \n"
          ]
        }
      ]
    },
    {
      "cell_type": "code",
      "source": [
        "# Categorização One-Hot\n",
        "categorical_columns = ['country', 'province', 'region_1', 'region_2', 'variety', 'winery']\n",
        "\n",
        "data_encoded = pd.get_dummies(data_scaled, columns=categorical_columns)\n",
        "\n",
        "print(\"\\nDados codificados:\")\n",
        "print(data_encoded.head())\n",
        "print(data_encoded.shape)"
      ],
      "metadata": {
        "colab": {
          "base_uri": "https://localhost:8080/"
        },
        "id": "MPQlmMOHPRH6",
        "outputId": "2411549c-2dd3-4e9f-d9aa-6ee9a84d6dd2"
      },
      "execution_count": 54,
      "outputs": [
        {
          "output_type": "stream",
          "name": "stdout",
          "text": [
            "\n",
            "Dados codificados:\n",
            "     points     price  country_US  province_California  province_New York  \\\n",
            "0  2.392941  8.067597        True                 True              False   \n",
            "2  2.392941  2.255638        True                 True              False   \n",
            "3  2.392941  1.253576        True                False              False   \n",
            "8  2.098916  1.253576        True                False              False   \n",
            "9  2.098916  1.053164        True                 True              False   \n",
            "\n",
            "   province_Oregon  province_Washington  region_1_Adelaida District  \\\n",
            "0            False                False                       False   \n",
            "2            False                False                       False   \n",
            "3             True                False                       False   \n",
            "8             True                False                       False   \n",
            "9            False                False                       False   \n",
            "\n",
            "   region_1_Alexander Valley  region_1_Alta Mesa  ...  winery_l'homme qui ris  \\\n",
            "0                      False               False  ...                   False   \n",
            "2                      False               False  ...                   False   \n",
            "3                      False               False  ...                   False   \n",
            "8                      False               False  ...                   False   \n",
            "9                      False               False  ...                   False   \n",
            "\n",
            "   winery_love & squalor  winery_m2 Wines  winery_next:  winery_promisQous  \\\n",
            "0                  False            False         False              False   \n",
            "2                  False            False         False              False   \n",
            "3                  False            False         False              False   \n",
            "8                  False            False         False              False   \n",
            "9                  False            False         False              False   \n",
            "\n",
            "   winery_the Ghost of 413  winery_un4seen  winery_Écluse  \\\n",
            "0                    False           False          False   \n",
            "2                    False           False          False   \n",
            "3                    False           False          False   \n",
            "8                    False           False          False   \n",
            "9                    False           False          False   \n",
            "\n",
            "   winery_Élevée Winegrowers  winery_àMaurice  \n",
            "0                      False            False  \n",
            "2                      False            False  \n",
            "3                      False            False  \n",
            "8                      False            False  \n",
            "9                      False            False  \n",
            "\n",
            "[5 rows x 5033 columns]\n",
            "(60704, 5033)\n"
          ]
        }
      ]
    }
  ]
}